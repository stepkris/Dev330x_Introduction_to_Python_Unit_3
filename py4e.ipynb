{
  "cells": [
    {
      "metadata": {
        "trusted": true
      },
      "cell_type": "code",
      "source": "print (\"hello world\")",
      "execution_count": 12,
      "outputs": [
        {
          "output_type": "stream",
          "text": "hello world\n",
          "name": "stdout"
        }
      ]
    },
    {
      "metadata": {
        "trusted": true
      },
      "cell_type": "code",
      "source": "hrs = input(\"Enter Hours:\")\nh = float(hrs)\nhrate=input (\"Enter Hour Rate:\")\nr=float(hrate)\ngrpay=0\nif h>40:\n    grpay=h*r+(h-40)*(r*1.5)\n    print (grpay)\nelse:\n    grpay=h*r\n    print (grpay)",
      "execution_count": null,
      "outputs": []
    },
    {
      "metadata": {
        "trusted": true
      },
      "cell_type": "code",
      "source": "def computepay(h,r):\n    return 42.37\n\nhrs = input(\"Enter Hours:\")\np = computepay(10,20)\nprint(\"Pay\",p)",
      "execution_count": 8,
      "outputs": [
        {
          "output_type": "stream",
          "name": "stdout",
          "text": "Enter Hours:10\nPay 42.37\n"
        }
      ]
    },
    {
      "metadata": {
        "trusted": true
      },
      "cell_type": "code",
      "source": "def computepay(h,r):\n    h=float(input(\"Enter Hours:\"))\n    r=float(input(\"Enter Rate:\"))\n    if h>40:\n        grpay=40*r+(h-40)*r*1.5\n        return (grpay)\n    else:\n        grpay=h*r\n        return (grpay)\np = computepay(h,r)\nprint(\"Pay\",p)",
      "execution_count": 2,
      "outputs": [
        {
          "output_type": "error",
          "ename": "NameError",
          "evalue": "name 'h' is not defined",
          "traceback": [
            "\u001b[0;31m---------------------------------------------------------------------------\u001b[0m",
            "\u001b[0;31mNameError\u001b[0m                                 Traceback (most recent call last)",
            "\u001b[0;32m<ipython-input-2-b9c967bb9c13>\u001b[0m in \u001b[0;36m<module>\u001b[0;34m()\u001b[0m\n\u001b[1;32m      8\u001b[0m         \u001b[0mgrpay\u001b[0m\u001b[0;34m=\u001b[0m\u001b[0mh\u001b[0m\u001b[0;34m*\u001b[0m\u001b[0mr\u001b[0m\u001b[0;34m\u001b[0m\u001b[0m\n\u001b[1;32m      9\u001b[0m         \u001b[0;32mreturn\u001b[0m \u001b[0;34m(\u001b[0m\u001b[0mgrpay\u001b[0m\u001b[0;34m)\u001b[0m\u001b[0;34m\u001b[0m\u001b[0m\n\u001b[0;32m---> 10\u001b[0;31m \u001b[0mp\u001b[0m \u001b[0;34m=\u001b[0m \u001b[0mcomputepay\u001b[0m\u001b[0;34m(\u001b[0m\u001b[0mh\u001b[0m\u001b[0;34m,\u001b[0m\u001b[0mr\u001b[0m\u001b[0;34m)\u001b[0m\u001b[0;34m\u001b[0m\u001b[0m\n\u001b[0m\u001b[1;32m     11\u001b[0m \u001b[0mprint\u001b[0m\u001b[0;34m(\u001b[0m\u001b[0;34m\"Pay\"\u001b[0m\u001b[0;34m,\u001b[0m\u001b[0mp\u001b[0m\u001b[0;34m)\u001b[0m\u001b[0;34m\u001b[0m\u001b[0m\n",
            "\u001b[0;31mNameError\u001b[0m: name 'h' is not defined"
          ]
        }
      ]
    },
    {
      "metadata": {
        "trusted": true
      },
      "cell_type": "code",
      "source": "largest = None\nsmallest = None\nwhile True:\n    num = input(\"Enter a number: \")\n    if num == \"done\" : \n        break\n    try:\n        num = int(num)\n    except:\n        print(\"Invalid input\")\n        continue\n    if smallest is None:\n        smallest=num\n    elif num<smallest:\n        smallest=num\n    if largest is None:\n        largest=num\n    elif largest<num:\n        largest=num\n          \n\nprint(\"Maximum is\", largest)\nprint (\"Minimum is\", smallest)",
      "execution_count": 10,
      "outputs": [
        {
          "output_type": "stream",
          "name": "stdout",
          "text": "Enter a number: de\nInvalid input\nEnter a number: 5\nEnter a number: 78\nEnter a number: ded\nInvalid input\nEnter a number: done\nMaximum 78\nMinimum 5\n"
        }
      ]
    },
    {
      "metadata": {
        "trusted": true
      },
      "cell_type": "code",
      "source": "text = \"X-DSPAM-Confidence:    0.8475\";\npos1=text.find(\".\")\n#print(pos1)\npos2=len(text)\n#print(pos2)\nsnumber=text[pos1-1:pos2]\nnumber=float(snumber)\nprint (number)\n#type(number)\n\n",
      "execution_count": 13,
      "outputs": [
        {
          "output_type": "stream",
          "text": "0.8475\n",
          "name": "stdout"
        }
      ]
    },
    {
      "metadata": {
        "trusted": true
      },
      "cell_type": "code",
      "source": "fname = input(\"Enter file name: \")\nnewfname=fname.upper()\nprint (newfname)",
      "execution_count": 17,
      "outputs": [
        {
          "output_type": "stream",
          "name": "stdout",
          "text": "Enter file name: mbox-short.txt\nMBOX-SHORT.TXT\n"
        }
      ]
    },
    {
      "metadata": {
        "trusted": true
      },
      "cell_type": "code",
      "source": "# Use the file name mbox-short.txt as the file name\nfname = input(\"Enter file name: \")\nfh = open(fname)\nindex=0\ntotal=0\nfor line in fh:\n    line=line.rstrip()\n    if not line.startswith(\"X-DSPAM-Confidence:\"): \n        continue\n    index=index+1\n    pos1=line.find(\":\")\n    pos2=len(line)\n    value=line[pos1+1:pos2]\n    fvalue=float(value)\n    total=total+fvalue\n    average=total/index\nprint(\"Average spam confidence: \", average)",
      "execution_count": 19,
      "outputs": [
        {
          "output_type": "stream",
          "name": "stdout",
          "text": "Enter file name: mbox-short.txt\nAverage spam confidence:  0.7507185185185187\n"
        }
      ]
    }
  ],
  "metadata": {
    "kernelspec": {
      "name": "python3",
      "display_name": "Python 3",
      "language": "python"
    },
    "language_info": {
      "mimetype": "text/x-python",
      "nbconvert_exporter": "python",
      "name": "python",
      "file_extension": ".py",
      "version": "3.5.4",
      "pygments_lexer": "ipython3",
      "codemirror_mode": {
        "version": 3,
        "name": "ipython"
      }
    }
  },
  "nbformat": 4,
  "nbformat_minor": 1
}